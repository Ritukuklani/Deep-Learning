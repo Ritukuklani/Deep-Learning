{
  "nbformat": 4,
  "nbformat_minor": 0,
  "metadata": {
    "colab": {
      "name": "hw1prob4_neuralnet.ipynb",
      "provenance": [],
      "collapsed_sections": [],
      "include_colab_link": true
    },
    "kernelspec": {
      "name": "python3",
      "display_name": "Python 3"
    },
    "accelerator": "GPU",
    "widgets": {
      "application/vnd.jupyter.widget-state+json": {
        "482dbf2e390641b5abb969fec02b827a": {
          "model_module": "@jupyter-widgets/controls",
          "model_name": "HBoxModel",
          "state": {
            "_view_name": "HBoxView",
            "_dom_classes": [],
            "_model_name": "HBoxModel",
            "_view_module": "@jupyter-widgets/controls",
            "_model_module_version": "1.5.0",
            "_view_count": null,
            "_view_module_version": "1.5.0",
            "box_style": "",
            "layout": "IPY_MODEL_47e358a02c40493fa113a7215f178505",
            "_model_module": "@jupyter-widgets/controls",
            "children": [
              "IPY_MODEL_0424411d981840e69c98fc055c8f910e",
              "IPY_MODEL_98be26a3f20743c88dbd650f6a3a0872"
            ]
          }
        },
        "47e358a02c40493fa113a7215f178505": {
          "model_module": "@jupyter-widgets/base",
          "model_name": "LayoutModel",
          "state": {
            "_view_name": "LayoutView",
            "grid_template_rows": null,
            "right": null,
            "justify_content": null,
            "_view_module": "@jupyter-widgets/base",
            "overflow": null,
            "_model_module_version": "1.2.0",
            "_view_count": null,
            "flex_flow": null,
            "width": null,
            "min_width": null,
            "border": null,
            "align_items": null,
            "bottom": null,
            "_model_module": "@jupyter-widgets/base",
            "top": null,
            "grid_column": null,
            "overflow_y": null,
            "overflow_x": null,
            "grid_auto_flow": null,
            "grid_area": null,
            "grid_template_columns": null,
            "flex": null,
            "_model_name": "LayoutModel",
            "justify_items": null,
            "grid_row": null,
            "max_height": null,
            "align_content": null,
            "visibility": null,
            "align_self": null,
            "height": null,
            "min_height": null,
            "padding": null,
            "grid_auto_rows": null,
            "grid_gap": null,
            "max_width": null,
            "order": null,
            "_view_module_version": "1.2.0",
            "grid_template_areas": null,
            "object_position": null,
            "object_fit": null,
            "grid_auto_columns": null,
            "margin": null,
            "display": null,
            "left": null
          }
        },
        "0424411d981840e69c98fc055c8f910e": {
          "model_module": "@jupyter-widgets/controls",
          "model_name": "FloatProgressModel",
          "state": {
            "_view_name": "ProgressView",
            "style": "IPY_MODEL_c233fbdedcbc4d7088853fcad39c3388",
            "_dom_classes": [],
            "description": "",
            "_model_name": "FloatProgressModel",
            "bar_style": "success",
            "max": 1,
            "_view_module": "@jupyter-widgets/controls",
            "_model_module_version": "1.5.0",
            "value": 1,
            "_view_count": null,
            "_view_module_version": "1.5.0",
            "orientation": "horizontal",
            "min": 0,
            "description_tooltip": null,
            "_model_module": "@jupyter-widgets/controls",
            "layout": "IPY_MODEL_8937298d8b984285bbf414ea43965939"
          }
        },
        "98be26a3f20743c88dbd650f6a3a0872": {
          "model_module": "@jupyter-widgets/controls",
          "model_name": "HTMLModel",
          "state": {
            "_view_name": "HTMLView",
            "style": "IPY_MODEL_a94820290dc44600986b36eff6c9d92e",
            "_dom_classes": [],
            "description": "",
            "_model_name": "HTMLModel",
            "placeholder": "​",
            "_view_module": "@jupyter-widgets/controls",
            "_model_module_version": "1.5.0",
            "value": " 26427392/? [00:05&lt;00:00, 4596497.38it/s]",
            "_view_count": null,
            "_view_module_version": "1.5.0",
            "description_tooltip": null,
            "_model_module": "@jupyter-widgets/controls",
            "layout": "IPY_MODEL_db97ecd672cd4276baff17ddfbbcf17e"
          }
        },
        "c233fbdedcbc4d7088853fcad39c3388": {
          "model_module": "@jupyter-widgets/controls",
          "model_name": "ProgressStyleModel",
          "state": {
            "_view_name": "StyleView",
            "_model_name": "ProgressStyleModel",
            "description_width": "initial",
            "_view_module": "@jupyter-widgets/base",
            "_model_module_version": "1.5.0",
            "_view_count": null,
            "_view_module_version": "1.2.0",
            "bar_color": null,
            "_model_module": "@jupyter-widgets/controls"
          }
        },
        "8937298d8b984285bbf414ea43965939": {
          "model_module": "@jupyter-widgets/base",
          "model_name": "LayoutModel",
          "state": {
            "_view_name": "LayoutView",
            "grid_template_rows": null,
            "right": null,
            "justify_content": null,
            "_view_module": "@jupyter-widgets/base",
            "overflow": null,
            "_model_module_version": "1.2.0",
            "_view_count": null,
            "flex_flow": null,
            "width": null,
            "min_width": null,
            "border": null,
            "align_items": null,
            "bottom": null,
            "_model_module": "@jupyter-widgets/base",
            "top": null,
            "grid_column": null,
            "overflow_y": null,
            "overflow_x": null,
            "grid_auto_flow": null,
            "grid_area": null,
            "grid_template_columns": null,
            "flex": null,
            "_model_name": "LayoutModel",
            "justify_items": null,
            "grid_row": null,
            "max_height": null,
            "align_content": null,
            "visibility": null,
            "align_self": null,
            "height": null,
            "min_height": null,
            "padding": null,
            "grid_auto_rows": null,
            "grid_gap": null,
            "max_width": null,
            "order": null,
            "_view_module_version": "1.2.0",
            "grid_template_areas": null,
            "object_position": null,
            "object_fit": null,
            "grid_auto_columns": null,
            "margin": null,
            "display": null,
            "left": null
          }
        },
        "a94820290dc44600986b36eff6c9d92e": {
          "model_module": "@jupyter-widgets/controls",
          "model_name": "DescriptionStyleModel",
          "state": {
            "_view_name": "StyleView",
            "_model_name": "DescriptionStyleModel",
            "description_width": "",
            "_view_module": "@jupyter-widgets/base",
            "_model_module_version": "1.5.0",
            "_view_count": null,
            "_view_module_version": "1.2.0",
            "_model_module": "@jupyter-widgets/controls"
          }
        },
        "db97ecd672cd4276baff17ddfbbcf17e": {
          "model_module": "@jupyter-widgets/base",
          "model_name": "LayoutModel",
          "state": {
            "_view_name": "LayoutView",
            "grid_template_rows": null,
            "right": null,
            "justify_content": null,
            "_view_module": "@jupyter-widgets/base",
            "overflow": null,
            "_model_module_version": "1.2.0",
            "_view_count": null,
            "flex_flow": null,
            "width": null,
            "min_width": null,
            "border": null,
            "align_items": null,
            "bottom": null,
            "_model_module": "@jupyter-widgets/base",
            "top": null,
            "grid_column": null,
            "overflow_y": null,
            "overflow_x": null,
            "grid_auto_flow": null,
            "grid_area": null,
            "grid_template_columns": null,
            "flex": null,
            "_model_name": "LayoutModel",
            "justify_items": null,
            "grid_row": null,
            "max_height": null,
            "align_content": null,
            "visibility": null,
            "align_self": null,
            "height": null,
            "min_height": null,
            "padding": null,
            "grid_auto_rows": null,
            "grid_gap": null,
            "max_width": null,
            "order": null,
            "_view_module_version": "1.2.0",
            "grid_template_areas": null,
            "object_position": null,
            "object_fit": null,
            "grid_auto_columns": null,
            "margin": null,
            "display": null,
            "left": null
          }
        },
        "013007cb993941c3bb74fc751c5a7447": {
          "model_module": "@jupyter-widgets/controls",
          "model_name": "HBoxModel",
          "state": {
            "_view_name": "HBoxView",
            "_dom_classes": [],
            "_model_name": "HBoxModel",
            "_view_module": "@jupyter-widgets/controls",
            "_model_module_version": "1.5.0",
            "_view_count": null,
            "_view_module_version": "1.5.0",
            "box_style": "",
            "layout": "IPY_MODEL_e7750762c7af4496885a0266a3531a74",
            "_model_module": "@jupyter-widgets/controls",
            "children": [
              "IPY_MODEL_0c29b509fbef4e3cbfa8018ea3ee057f",
              "IPY_MODEL_861570968d2f4387b188858473bed807"
            ]
          }
        },
        "e7750762c7af4496885a0266a3531a74": {
          "model_module": "@jupyter-widgets/base",
          "model_name": "LayoutModel",
          "state": {
            "_view_name": "LayoutView",
            "grid_template_rows": null,
            "right": null,
            "justify_content": null,
            "_view_module": "@jupyter-widgets/base",
            "overflow": null,
            "_model_module_version": "1.2.0",
            "_view_count": null,
            "flex_flow": null,
            "width": null,
            "min_width": null,
            "border": null,
            "align_items": null,
            "bottom": null,
            "_model_module": "@jupyter-widgets/base",
            "top": null,
            "grid_column": null,
            "overflow_y": null,
            "overflow_x": null,
            "grid_auto_flow": null,
            "grid_area": null,
            "grid_template_columns": null,
            "flex": null,
            "_model_name": "LayoutModel",
            "justify_items": null,
            "grid_row": null,
            "max_height": null,
            "align_content": null,
            "visibility": null,
            "align_self": null,
            "height": null,
            "min_height": null,
            "padding": null,
            "grid_auto_rows": null,
            "grid_gap": null,
            "max_width": null,
            "order": null,
            "_view_module_version": "1.2.0",
            "grid_template_areas": null,
            "object_position": null,
            "object_fit": null,
            "grid_auto_columns": null,
            "margin": null,
            "display": null,
            "left": null
          }
        },
        "0c29b509fbef4e3cbfa8018ea3ee057f": {
          "model_module": "@jupyter-widgets/controls",
          "model_name": "FloatProgressModel",
          "state": {
            "_view_name": "ProgressView",
            "style": "IPY_MODEL_50a0a06e47ef4e8cb4e608a417024c39",
            "_dom_classes": [],
            "description": "",
            "_model_name": "FloatProgressModel",
            "bar_style": "success",
            "max": 1,
            "_view_module": "@jupyter-widgets/controls",
            "_model_module_version": "1.5.0",
            "value": 1,
            "_view_count": null,
            "_view_module_version": "1.5.0",
            "orientation": "horizontal",
            "min": 0,
            "description_tooltip": null,
            "_model_module": "@jupyter-widgets/controls",
            "layout": "IPY_MODEL_524eb239855e41aab9cfd4cb4ae385f9"
          }
        },
        "861570968d2f4387b188858473bed807": {
          "model_module": "@jupyter-widgets/controls",
          "model_name": "HTMLModel",
          "state": {
            "_view_name": "HTMLView",
            "style": "IPY_MODEL_bef1b0921be84b4e915a60b09cbe418b",
            "_dom_classes": [],
            "description": "",
            "_model_name": "HTMLModel",
            "placeholder": "​",
            "_view_module": "@jupyter-widgets/controls",
            "_model_module_version": "1.5.0",
            "value": " 32768/? [00:02&lt;00:00, 12484.41it/s]",
            "_view_count": null,
            "_view_module_version": "1.5.0",
            "description_tooltip": null,
            "_model_module": "@jupyter-widgets/controls",
            "layout": "IPY_MODEL_e2c7945b0d9541c79ee92a5ff3096a86"
          }
        },
        "50a0a06e47ef4e8cb4e608a417024c39": {
          "model_module": "@jupyter-widgets/controls",
          "model_name": "ProgressStyleModel",
          "state": {
            "_view_name": "StyleView",
            "_model_name": "ProgressStyleModel",
            "description_width": "initial",
            "_view_module": "@jupyter-widgets/base",
            "_model_module_version": "1.5.0",
            "_view_count": null,
            "_view_module_version": "1.2.0",
            "bar_color": null,
            "_model_module": "@jupyter-widgets/controls"
          }
        },
        "524eb239855e41aab9cfd4cb4ae385f9": {
          "model_module": "@jupyter-widgets/base",
          "model_name": "LayoutModel",
          "state": {
            "_view_name": "LayoutView",
            "grid_template_rows": null,
            "right": null,
            "justify_content": null,
            "_view_module": "@jupyter-widgets/base",
            "overflow": null,
            "_model_module_version": "1.2.0",
            "_view_count": null,
            "flex_flow": null,
            "width": null,
            "min_width": null,
            "border": null,
            "align_items": null,
            "bottom": null,
            "_model_module": "@jupyter-widgets/base",
            "top": null,
            "grid_column": null,
            "overflow_y": null,
            "overflow_x": null,
            "grid_auto_flow": null,
            "grid_area": null,
            "grid_template_columns": null,
            "flex": null,
            "_model_name": "LayoutModel",
            "justify_items": null,
            "grid_row": null,
            "max_height": null,
            "align_content": null,
            "visibility": null,
            "align_self": null,
            "height": null,
            "min_height": null,
            "padding": null,
            "grid_auto_rows": null,
            "grid_gap": null,
            "max_width": null,
            "order": null,
            "_view_module_version": "1.2.0",
            "grid_template_areas": null,
            "object_position": null,
            "object_fit": null,
            "grid_auto_columns": null,
            "margin": null,
            "display": null,
            "left": null
          }
        },
        "bef1b0921be84b4e915a60b09cbe418b": {
          "model_module": "@jupyter-widgets/controls",
          "model_name": "DescriptionStyleModel",
          "state": {
            "_view_name": "StyleView",
            "_model_name": "DescriptionStyleModel",
            "description_width": "",
            "_view_module": "@jupyter-widgets/base",
            "_model_module_version": "1.5.0",
            "_view_count": null,
            "_view_module_version": "1.2.0",
            "_model_module": "@jupyter-widgets/controls"
          }
        },
        "e2c7945b0d9541c79ee92a5ff3096a86": {
          "model_module": "@jupyter-widgets/base",
          "model_name": "LayoutModel",
          "state": {
            "_view_name": "LayoutView",
            "grid_template_rows": null,
            "right": null,
            "justify_content": null,
            "_view_module": "@jupyter-widgets/base",
            "overflow": null,
            "_model_module_version": "1.2.0",
            "_view_count": null,
            "flex_flow": null,
            "width": null,
            "min_width": null,
            "border": null,
            "align_items": null,
            "bottom": null,
            "_model_module": "@jupyter-widgets/base",
            "top": null,
            "grid_column": null,
            "overflow_y": null,
            "overflow_x": null,
            "grid_auto_flow": null,
            "grid_area": null,
            "grid_template_columns": null,
            "flex": null,
            "_model_name": "LayoutModel",
            "justify_items": null,
            "grid_row": null,
            "max_height": null,
            "align_content": null,
            "visibility": null,
            "align_self": null,
            "height": null,
            "min_height": null,
            "padding": null,
            "grid_auto_rows": null,
            "grid_gap": null,
            "max_width": null,
            "order": null,
            "_view_module_version": "1.2.0",
            "grid_template_areas": null,
            "object_position": null,
            "object_fit": null,
            "grid_auto_columns": null,
            "margin": null,
            "display": null,
            "left": null
          }
        },
        "fa5690d388034e9c84ca399e75f1b9b4": {
          "model_module": "@jupyter-widgets/controls",
          "model_name": "HBoxModel",
          "state": {
            "_view_name": "HBoxView",
            "_dom_classes": [],
            "_model_name": "HBoxModel",
            "_view_module": "@jupyter-widgets/controls",
            "_model_module_version": "1.5.0",
            "_view_count": null,
            "_view_module_version": "1.5.0",
            "box_style": "",
            "layout": "IPY_MODEL_650ebe3db5ca4e92af40cee4f67811f0",
            "_model_module": "@jupyter-widgets/controls",
            "children": [
              "IPY_MODEL_9018bb76dd4f41f0b99a059fc5c813cd",
              "IPY_MODEL_69593f3e34c44a07ba9ad9c17e037722"
            ]
          }
        },
        "650ebe3db5ca4e92af40cee4f67811f0": {
          "model_module": "@jupyter-widgets/base",
          "model_name": "LayoutModel",
          "state": {
            "_view_name": "LayoutView",
            "grid_template_rows": null,
            "right": null,
            "justify_content": null,
            "_view_module": "@jupyter-widgets/base",
            "overflow": null,
            "_model_module_version": "1.2.0",
            "_view_count": null,
            "flex_flow": null,
            "width": null,
            "min_width": null,
            "border": null,
            "align_items": null,
            "bottom": null,
            "_model_module": "@jupyter-widgets/base",
            "top": null,
            "grid_column": null,
            "overflow_y": null,
            "overflow_x": null,
            "grid_auto_flow": null,
            "grid_area": null,
            "grid_template_columns": null,
            "flex": null,
            "_model_name": "LayoutModel",
            "justify_items": null,
            "grid_row": null,
            "max_height": null,
            "align_content": null,
            "visibility": null,
            "align_self": null,
            "height": null,
            "min_height": null,
            "padding": null,
            "grid_auto_rows": null,
            "grid_gap": null,
            "max_width": null,
            "order": null,
            "_view_module_version": "1.2.0",
            "grid_template_areas": null,
            "object_position": null,
            "object_fit": null,
            "grid_auto_columns": null,
            "margin": null,
            "display": null,
            "left": null
          }
        },
        "9018bb76dd4f41f0b99a059fc5c813cd": {
          "model_module": "@jupyter-widgets/controls",
          "model_name": "FloatProgressModel",
          "state": {
            "_view_name": "ProgressView",
            "style": "IPY_MODEL_29cd142e534e4812af029fb8a9f764fe",
            "_dom_classes": [],
            "description": "",
            "_model_name": "FloatProgressModel",
            "bar_style": "success",
            "max": 1,
            "_view_module": "@jupyter-widgets/controls",
            "_model_module_version": "1.5.0",
            "value": 1,
            "_view_count": null,
            "_view_module_version": "1.5.0",
            "orientation": "horizontal",
            "min": 0,
            "description_tooltip": null,
            "_model_module": "@jupyter-widgets/controls",
            "layout": "IPY_MODEL_ef4f2e45a6974836a408fd778db8ae16"
          }
        },
        "69593f3e34c44a07ba9ad9c17e037722": {
          "model_module": "@jupyter-widgets/controls",
          "model_name": "HTMLModel",
          "state": {
            "_view_name": "HTMLView",
            "style": "IPY_MODEL_38f8cae80ab541c7b009fe98d7443429",
            "_dom_classes": [],
            "description": "",
            "_model_name": "HTMLModel",
            "placeholder": "​",
            "_view_module": "@jupyter-widgets/controls",
            "_model_module_version": "1.5.0",
            "value": " 4423680/? [00:02&lt;00:00, 2103308.81it/s]",
            "_view_count": null,
            "_view_module_version": "1.5.0",
            "description_tooltip": null,
            "_model_module": "@jupyter-widgets/controls",
            "layout": "IPY_MODEL_7663e2ed08714d99a0a8dc2942e2d75e"
          }
        },
        "29cd142e534e4812af029fb8a9f764fe": {
          "model_module": "@jupyter-widgets/controls",
          "model_name": "ProgressStyleModel",
          "state": {
            "_view_name": "StyleView",
            "_model_name": "ProgressStyleModel",
            "description_width": "initial",
            "_view_module": "@jupyter-widgets/base",
            "_model_module_version": "1.5.0",
            "_view_count": null,
            "_view_module_version": "1.2.0",
            "bar_color": null,
            "_model_module": "@jupyter-widgets/controls"
          }
        },
        "ef4f2e45a6974836a408fd778db8ae16": {
          "model_module": "@jupyter-widgets/base",
          "model_name": "LayoutModel",
          "state": {
            "_view_name": "LayoutView",
            "grid_template_rows": null,
            "right": null,
            "justify_content": null,
            "_view_module": "@jupyter-widgets/base",
            "overflow": null,
            "_model_module_version": "1.2.0",
            "_view_count": null,
            "flex_flow": null,
            "width": null,
            "min_width": null,
            "border": null,
            "align_items": null,
            "bottom": null,
            "_model_module": "@jupyter-widgets/base",
            "top": null,
            "grid_column": null,
            "overflow_y": null,
            "overflow_x": null,
            "grid_auto_flow": null,
            "grid_area": null,
            "grid_template_columns": null,
            "flex": null,
            "_model_name": "LayoutModel",
            "justify_items": null,
            "grid_row": null,
            "max_height": null,
            "align_content": null,
            "visibility": null,
            "align_self": null,
            "height": null,
            "min_height": null,
            "padding": null,
            "grid_auto_rows": null,
            "grid_gap": null,
            "max_width": null,
            "order": null,
            "_view_module_version": "1.2.0",
            "grid_template_areas": null,
            "object_position": null,
            "object_fit": null,
            "grid_auto_columns": null,
            "margin": null,
            "display": null,
            "left": null
          }
        },
        "38f8cae80ab541c7b009fe98d7443429": {
          "model_module": "@jupyter-widgets/controls",
          "model_name": "DescriptionStyleModel",
          "state": {
            "_view_name": "StyleView",
            "_model_name": "DescriptionStyleModel",
            "description_width": "",
            "_view_module": "@jupyter-widgets/base",
            "_model_module_version": "1.5.0",
            "_view_count": null,
            "_view_module_version": "1.2.0",
            "_model_module": "@jupyter-widgets/controls"
          }
        },
        "7663e2ed08714d99a0a8dc2942e2d75e": {
          "model_module": "@jupyter-widgets/base",
          "model_name": "LayoutModel",
          "state": {
            "_view_name": "LayoutView",
            "grid_template_rows": null,
            "right": null,
            "justify_content": null,
            "_view_module": "@jupyter-widgets/base",
            "overflow": null,
            "_model_module_version": "1.2.0",
            "_view_count": null,
            "flex_flow": null,
            "width": null,
            "min_width": null,
            "border": null,
            "align_items": null,
            "bottom": null,
            "_model_module": "@jupyter-widgets/base",
            "top": null,
            "grid_column": null,
            "overflow_y": null,
            "overflow_x": null,
            "grid_auto_flow": null,
            "grid_area": null,
            "grid_template_columns": null,
            "flex": null,
            "_model_name": "LayoutModel",
            "justify_items": null,
            "grid_row": null,
            "max_height": null,
            "align_content": null,
            "visibility": null,
            "align_self": null,
            "height": null,
            "min_height": null,
            "padding": null,
            "grid_auto_rows": null,
            "grid_gap": null,
            "max_width": null,
            "order": null,
            "_view_module_version": "1.2.0",
            "grid_template_areas": null,
            "object_position": null,
            "object_fit": null,
            "grid_auto_columns": null,
            "margin": null,
            "display": null,
            "left": null
          }
        },
        "e92ad53053544150a239f709de84f259": {
          "model_module": "@jupyter-widgets/controls",
          "model_name": "HBoxModel",
          "state": {
            "_view_name": "HBoxView",
            "_dom_classes": [],
            "_model_name": "HBoxModel",
            "_view_module": "@jupyter-widgets/controls",
            "_model_module_version": "1.5.0",
            "_view_count": null,
            "_view_module_version": "1.5.0",
            "box_style": "",
            "layout": "IPY_MODEL_8de44bf7d03341bfbee1146941dc8889",
            "_model_module": "@jupyter-widgets/controls",
            "children": [
              "IPY_MODEL_a0566409115348d69869c93ca0714ffa",
              "IPY_MODEL_b7b740d7536a4db5b8aba7cf296114dc"
            ]
          }
        },
        "8de44bf7d03341bfbee1146941dc8889": {
          "model_module": "@jupyter-widgets/base",
          "model_name": "LayoutModel",
          "state": {
            "_view_name": "LayoutView",
            "grid_template_rows": null,
            "right": null,
            "justify_content": null,
            "_view_module": "@jupyter-widgets/base",
            "overflow": null,
            "_model_module_version": "1.2.0",
            "_view_count": null,
            "flex_flow": null,
            "width": null,
            "min_width": null,
            "border": null,
            "align_items": null,
            "bottom": null,
            "_model_module": "@jupyter-widgets/base",
            "top": null,
            "grid_column": null,
            "overflow_y": null,
            "overflow_x": null,
            "grid_auto_flow": null,
            "grid_area": null,
            "grid_template_columns": null,
            "flex": null,
            "_model_name": "LayoutModel",
            "justify_items": null,
            "grid_row": null,
            "max_height": null,
            "align_content": null,
            "visibility": null,
            "align_self": null,
            "height": null,
            "min_height": null,
            "padding": null,
            "grid_auto_rows": null,
            "grid_gap": null,
            "max_width": null,
            "order": null,
            "_view_module_version": "1.2.0",
            "grid_template_areas": null,
            "object_position": null,
            "object_fit": null,
            "grid_auto_columns": null,
            "margin": null,
            "display": null,
            "left": null
          }
        },
        "a0566409115348d69869c93ca0714ffa": {
          "model_module": "@jupyter-widgets/controls",
          "model_name": "FloatProgressModel",
          "state": {
            "_view_name": "ProgressView",
            "style": "IPY_MODEL_29c7d41f597842a1b8b5ea8802edb87c",
            "_dom_classes": [],
            "description": "",
            "_model_name": "FloatProgressModel",
            "bar_style": "success",
            "max": 1,
            "_view_module": "@jupyter-widgets/controls",
            "_model_module_version": "1.5.0",
            "value": 1,
            "_view_count": null,
            "_view_module_version": "1.5.0",
            "orientation": "horizontal",
            "min": 0,
            "description_tooltip": null,
            "_model_module": "@jupyter-widgets/controls",
            "layout": "IPY_MODEL_38d4ffcd712d478ea8c2fec32775cf7a"
          }
        },
        "b7b740d7536a4db5b8aba7cf296114dc": {
          "model_module": "@jupyter-widgets/controls",
          "model_name": "HTMLModel",
          "state": {
            "_view_name": "HTMLView",
            "style": "IPY_MODEL_16dca99c388c4b2b9ed95978cbd31951",
            "_dom_classes": [],
            "description": "",
            "_model_name": "HTMLModel",
            "placeholder": "​",
            "_view_module": "@jupyter-widgets/controls",
            "_model_module_version": "1.5.0",
            "value": " 8192/? [00:00&lt;00:00, 15660.75it/s]",
            "_view_count": null,
            "_view_module_version": "1.5.0",
            "description_tooltip": null,
            "_model_module": "@jupyter-widgets/controls",
            "layout": "IPY_MODEL_9f25214a95044f028b8807bd90aaf0bc"
          }
        },
        "29c7d41f597842a1b8b5ea8802edb87c": {
          "model_module": "@jupyter-widgets/controls",
          "model_name": "ProgressStyleModel",
          "state": {
            "_view_name": "StyleView",
            "_model_name": "ProgressStyleModel",
            "description_width": "initial",
            "_view_module": "@jupyter-widgets/base",
            "_model_module_version": "1.5.0",
            "_view_count": null,
            "_view_module_version": "1.2.0",
            "bar_color": null,
            "_model_module": "@jupyter-widgets/controls"
          }
        },
        "38d4ffcd712d478ea8c2fec32775cf7a": {
          "model_module": "@jupyter-widgets/base",
          "model_name": "LayoutModel",
          "state": {
            "_view_name": "LayoutView",
            "grid_template_rows": null,
            "right": null,
            "justify_content": null,
            "_view_module": "@jupyter-widgets/base",
            "overflow": null,
            "_model_module_version": "1.2.0",
            "_view_count": null,
            "flex_flow": null,
            "width": null,
            "min_width": null,
            "border": null,
            "align_items": null,
            "bottom": null,
            "_model_module": "@jupyter-widgets/base",
            "top": null,
            "grid_column": null,
            "overflow_y": null,
            "overflow_x": null,
            "grid_auto_flow": null,
            "grid_area": null,
            "grid_template_columns": null,
            "flex": null,
            "_model_name": "LayoutModel",
            "justify_items": null,
            "grid_row": null,
            "max_height": null,
            "align_content": null,
            "visibility": null,
            "align_self": null,
            "height": null,
            "min_height": null,
            "padding": null,
            "grid_auto_rows": null,
            "grid_gap": null,
            "max_width": null,
            "order": null,
            "_view_module_version": "1.2.0",
            "grid_template_areas": null,
            "object_position": null,
            "object_fit": null,
            "grid_auto_columns": null,
            "margin": null,
            "display": null,
            "left": null
          }
        },
        "16dca99c388c4b2b9ed95978cbd31951": {
          "model_module": "@jupyter-widgets/controls",
          "model_name": "DescriptionStyleModel",
          "state": {
            "_view_name": "StyleView",
            "_model_name": "DescriptionStyleModel",
            "description_width": "",
            "_view_module": "@jupyter-widgets/base",
            "_model_module_version": "1.5.0",
            "_view_count": null,
            "_view_module_version": "1.2.0",
            "_model_module": "@jupyter-widgets/controls"
          }
        },
        "9f25214a95044f028b8807bd90aaf0bc": {
          "model_module": "@jupyter-widgets/base",
          "model_name": "LayoutModel",
          "state": {
            "_view_name": "LayoutView",
            "grid_template_rows": null,
            "right": null,
            "justify_content": null,
            "_view_module": "@jupyter-widgets/base",
            "overflow": null,
            "_model_module_version": "1.2.0",
            "_view_count": null,
            "flex_flow": null,
            "width": null,
            "min_width": null,
            "border": null,
            "align_items": null,
            "bottom": null,
            "_model_module": "@jupyter-widgets/base",
            "top": null,
            "grid_column": null,
            "overflow_y": null,
            "overflow_x": null,
            "grid_auto_flow": null,
            "grid_area": null,
            "grid_template_columns": null,
            "flex": null,
            "_model_name": "LayoutModel",
            "justify_items": null,
            "grid_row": null,
            "max_height": null,
            "align_content": null,
            "visibility": null,
            "align_self": null,
            "height": null,
            "min_height": null,
            "padding": null,
            "grid_auto_rows": null,
            "grid_gap": null,
            "max_width": null,
            "order": null,
            "_view_module_version": "1.2.0",
            "grid_template_areas": null,
            "object_position": null,
            "object_fit": null,
            "grid_auto_columns": null,
            "margin": null,
            "display": null,
            "left": null
          }
        }
      }
    }
  },
  "cells": [
    {
      "cell_type": "markdown",
      "metadata": {
        "id": "view-in-github",
        "colab_type": "text"
      },
      "source": [
        "<a href=\"https://colab.research.google.com/github/Ritukuklani/Deep-Learning/blob/main/hw1prob4_neuralnet.ipynb\" target=\"_parent\"><img src=\"https://colab.research.google.com/assets/colab-badge.svg\" alt=\"Open In Colab\"/></a>"
      ]
    },
    {
      "cell_type": "markdown",
      "metadata": {
        "id": "NQ727lB7Bd-Q"
      },
      "source": [
        "OK, thus far we have been talking about linear models. All these can be viewed as a single-layer neural net. The next step is to move on to multi-layer nets. Training these is a bit more involved, and implementing from scratch requires time and effort. Instead, we just use well-established libraries. I prefer PyTorch, which is based on an earlier library called Torch (designed for training neural nets via backprop)."
      ]
    },
    {
      "cell_type": "code",
      "metadata": {
        "id": "8zHrM6ihB1uA"
      },
      "source": [
        "import numpy as np\n",
        "import torch\n",
        "import torchvision"
      ],
      "execution_count": null,
      "outputs": []
    },
    {
      "cell_type": "markdown",
      "metadata": {
        "id": "M5vzZmhnCBDv"
      },
      "source": [
        "Torch handles data types a bit differently. Everything in torch is a *tensor*."
      ]
    },
    {
      "cell_type": "code",
      "metadata": {
        "id": "MvAolsJ6CJJs",
        "colab": {
          "base_uri": "https://localhost:8080/",
          "height": 84
        },
        "outputId": "18f3e703-f863-4207-e6b7-86e58eb507fb"
      },
      "source": [
        "a = np.random.rand(2,3)\n",
        "b = torch.from_numpy(a)\n",
        "\n",
        "# Q4.1 Display the contents of a, b\n",
        "\n",
        "print(a)\n",
        "print(b)"
      ],
      "execution_count": null,
      "outputs": [
        {
          "output_type": "stream",
          "text": [
            "[[0.97941015 0.16213134 0.30569123]\n",
            " [0.69163066 0.97256496 0.76706805]]\n",
            "tensor([[0.9794, 0.1621, 0.3057],\n",
            "        [0.6916, 0.9726, 0.7671]], dtype=torch.float64)\n"
          ],
          "name": "stdout"
        }
      ]
    },
    {
      "cell_type": "markdown",
      "metadata": {
        "id": "cuRIMzC-CYx-"
      },
      "source": [
        "The idea in Torch is that tensors allow for easy forward (function evaluations) and backward (gradient) passes."
      ]
    },
    {
      "cell_type": "code",
      "metadata": {
        "id": "gb2LWPSACqiS",
        "colab": {
          "base_uri": "https://localhost:8080/",
          "height": 134
        },
        "outputId": "f9deac2a-c763-4c76-95a3-08ec7fd4739e"
      },
      "source": [
        "A = torch.rand(2,2)\n",
        "b = torch.rand(2,1)\n",
        "x = torch.rand(2,1, requires_grad=True)\n",
        "\n",
        "y = torch.matmul(A,x) + b\n",
        "\n",
        "print(y)\n",
        "z = y.sum()\n",
        "print(z)\n",
        "z.backward()\n",
        "print(x.grad)\n",
        "print(x)"
      ],
      "execution_count": null,
      "outputs": [
        {
          "output_type": "stream",
          "text": [
            "tensor([[1.0440],\n",
            "        [0.7221]], grad_fn=<AddBackward0>)\n",
            "tensor(1.7660, grad_fn=<SumBackward0>)\n",
            "tensor([[0.5686],\n",
            "        [0.3368]])\n",
            "tensor([[0.9506],\n",
            "        [0.0330]], requires_grad=True)\n"
          ],
          "name": "stdout"
        }
      ]
    },
    {
      "cell_type": "markdown",
      "metadata": {
        "id": "J4ptw5BlEHVL"
      },
      "source": [
        "Notice how the backward pass computed the gradients using autograd. OK, enough background. Time to train some networks. Let us load the *Fashion MNIST* dataset, which is a database of grayscale images of clothing items."
      ]
    },
    {
      "cell_type": "code",
      "metadata": {
        "id": "zSTq5wKoEPlA",
        "colab": {
          "base_uri": "https://localhost:8080/",
          "height": 366,
          "referenced_widgets": [
            "482dbf2e390641b5abb969fec02b827a",
            "47e358a02c40493fa113a7215f178505",
            "0424411d981840e69c98fc055c8f910e",
            "98be26a3f20743c88dbd650f6a3a0872",
            "c233fbdedcbc4d7088853fcad39c3388",
            "8937298d8b984285bbf414ea43965939",
            "a94820290dc44600986b36eff6c9d92e",
            "db97ecd672cd4276baff17ddfbbcf17e",
            "013007cb993941c3bb74fc751c5a7447",
            "e7750762c7af4496885a0266a3531a74",
            "0c29b509fbef4e3cbfa8018ea3ee057f",
            "861570968d2f4387b188858473bed807",
            "50a0a06e47ef4e8cb4e608a417024c39",
            "524eb239855e41aab9cfd4cb4ae385f9",
            "bef1b0921be84b4e915a60b09cbe418b",
            "e2c7945b0d9541c79ee92a5ff3096a86",
            "fa5690d388034e9c84ca399e75f1b9b4",
            "650ebe3db5ca4e92af40cee4f67811f0",
            "9018bb76dd4f41f0b99a059fc5c813cd",
            "69593f3e34c44a07ba9ad9c17e037722",
            "29cd142e534e4812af029fb8a9f764fe",
            "ef4f2e45a6974836a408fd778db8ae16",
            "38f8cae80ab541c7b009fe98d7443429",
            "7663e2ed08714d99a0a8dc2942e2d75e",
            "e92ad53053544150a239f709de84f259",
            "8de44bf7d03341bfbee1146941dc8889",
            "a0566409115348d69869c93ca0714ffa",
            "b7b740d7536a4db5b8aba7cf296114dc",
            "29c7d41f597842a1b8b5ea8802edb87c",
            "38d4ffcd712d478ea8c2fec32775cf7a",
            "16dca99c388c4b2b9ed95978cbd31951",
            "9f25214a95044f028b8807bd90aaf0bc"
          ]
        },
        "outputId": "853e953b-b36f-42db-a3b4-15b7d424407a"
      },
      "source": [
        "trainingdata = torchvision.datasets.FashionMNIST('./FashionMNIST/',train=True,download=True,transform=torchvision.transforms.ToTensor())\n",
        "testdata = torchvision.datasets.FashionMNIST('./FashionMNIST/',train=False,download=True,transform=torchvision.transforms.ToTensor())\n"
      ],
      "execution_count": null,
      "outputs": [
        {
          "output_type": "stream",
          "text": [
            "Downloading http://fashion-mnist.s3-website.eu-central-1.amazonaws.com/train-images-idx3-ubyte.gz to ./FashionMNIST/FashionMNIST/raw/train-images-idx3-ubyte.gz\n"
          ],
          "name": "stdout"
        },
        {
          "output_type": "display_data",
          "data": {
            "application/vnd.jupyter.widget-view+json": {
              "model_id": "482dbf2e390641b5abb969fec02b827a",
              "version_minor": 0,
              "version_major": 2
            },
            "text/plain": [
              "HBox(children=(FloatProgress(value=1.0, bar_style='info', max=1.0), HTML(value='')))"
            ]
          },
          "metadata": {
            "tags": []
          }
        },
        {
          "output_type": "stream",
          "text": [
            "Extracting ./FashionMNIST/FashionMNIST/raw/train-images-idx3-ubyte.gz to ./FashionMNIST/FashionMNIST/raw\n",
            "Downloading http://fashion-mnist.s3-website.eu-central-1.amazonaws.com/train-labels-idx1-ubyte.gz to ./FashionMNIST/FashionMNIST/raw/train-labels-idx1-ubyte.gz\n"
          ],
          "name": "stdout"
        },
        {
          "output_type": "display_data",
          "data": {
            "application/vnd.jupyter.widget-view+json": {
              "model_id": "013007cb993941c3bb74fc751c5a7447",
              "version_minor": 0,
              "version_major": 2
            },
            "text/plain": [
              "HBox(children=(FloatProgress(value=1.0, bar_style='info', max=1.0), HTML(value='')))"
            ]
          },
          "metadata": {
            "tags": []
          }
        },
        {
          "output_type": "stream",
          "text": [
            "Extracting ./FashionMNIST/FashionMNIST/raw/train-labels-idx1-ubyte.gz to ./FashionMNIST/FashionMNIST/raw\n",
            "Downloading http://fashion-mnist.s3-website.eu-central-1.amazonaws.com/t10k-images-idx3-ubyte.gz to ./FashionMNIST/FashionMNIST/raw/t10k-images-idx3-ubyte.gz\n"
          ],
          "name": "stdout"
        },
        {
          "output_type": "display_data",
          "data": {
            "application/vnd.jupyter.widget-view+json": {
              "model_id": "fa5690d388034e9c84ca399e75f1b9b4",
              "version_minor": 0,
              "version_major": 2
            },
            "text/plain": [
              "HBox(children=(FloatProgress(value=1.0, bar_style='info', max=1.0), HTML(value='')))"
            ]
          },
          "metadata": {
            "tags": []
          }
        },
        {
          "output_type": "stream",
          "text": [
            "Extracting ./FashionMNIST/FashionMNIST/raw/t10k-images-idx3-ubyte.gz to ./FashionMNIST/FashionMNIST/raw\n",
            "Downloading http://fashion-mnist.s3-website.eu-central-1.amazonaws.com/t10k-labels-idx1-ubyte.gz to ./FashionMNIST/FashionMNIST/raw/t10k-labels-idx1-ubyte.gz\n"
          ],
          "name": "stdout"
        },
        {
          "output_type": "display_data",
          "data": {
            "application/vnd.jupyter.widget-view+json": {
              "model_id": "e92ad53053544150a239f709de84f259",
              "version_minor": 0,
              "version_major": 2
            },
            "text/plain": [
              "HBox(children=(FloatProgress(value=1.0, bar_style='info', max=1.0), HTML(value='')))"
            ]
          },
          "metadata": {
            "tags": []
          }
        },
        {
          "output_type": "stream",
          "text": [
            "Extracting ./FashionMNIST/FashionMNIST/raw/t10k-labels-idx1-ubyte.gz to ./FashionMNIST/FashionMNIST/raw\n",
            "Processing...\n",
            "Done!\n"
          ],
          "name": "stdout"
        },
        {
          "output_type": "stream",
          "text": [
            "/usr/local/lib/python3.6/dist-packages/torchvision/datasets/mnist.py:469: UserWarning: The given NumPy array is not writeable, and PyTorch does not support non-writeable tensors. This means you can write to the underlying (supposedly non-writeable) NumPy array using the tensor. You may want to copy the array to protect its data or make it writeable before converting it to a tensor. This type of warning will be suppressed for the rest of this program. (Triggered internally at  /pytorch/torch/csrc/utils/tensor_numpy.cpp:141.)\n",
            "  return torch.from_numpy(parsed.astype(m[2], copy=False)).view(*s)\n"
          ],
          "name": "stderr"
        }
      ]
    },
    {
      "cell_type": "markdown",
      "metadata": {
        "id": "_viGcCfmMxJp"
      },
      "source": [
        "Let us examine the size of the dataset."
      ]
    },
    {
      "cell_type": "code",
      "metadata": {
        "id": "qMb0WQthE2vR",
        "colab": {
          "base_uri": "https://localhost:8080/",
          "height": 118
        },
        "outputId": "cd1f2590-74a4-4bfd-e507-39cf9852b0cf"
      },
      "source": [
        "# Q4.2 How many training and testing data points are there in the dataset? \n",
        "# What is the number of features in each data point?\n",
        "\n",
        "print(len(trainingdata))\n",
        "print(len(testdata))\n",
        "# print(trainingdata[0].shape)\n",
        "image, label = trainingdata[0]\n",
        "image.numel()"
      ],
      "execution_count": null,
      "outputs": [
        {
          "output_type": "stream",
          "text": [
            "\n",
            "\n",
            "\n",
            "60000\n",
            "10000\n"
          ],
          "name": "stdout"
        },
        {
          "output_type": "execute_result",
          "data": {
            "text/plain": [
              "784"
            ]
          },
          "metadata": {
            "tags": []
          },
          "execution_count": 6
        }
      ]
    },
    {
      "cell_type": "markdown",
      "metadata": {
        "id": "beaahX9xFQf2"
      },
      "source": [
        "Let us try to visualize some of the images. Since each data point is a tensor (not an array) we need to postprocess to use matplotlib."
      ]
    },
    {
      "cell_type": "code",
      "metadata": {
        "id": "iaEVjo9BFYQo",
        "colab": {
          "base_uri": "https://localhost:8080/",
          "height": 282
        },
        "outputId": "0b6fbef0-867e-46c7-da1b-8d06534c917a"
      },
      "source": [
        "import matplotlib.pyplot as plt\n",
        "%matplotlib inline\n",
        "\n",
        "image, label = trainingdata[0]\n",
        "# Q4.3 Assuming each sample is an image of size 28x28, show it in matplotlib.\n",
        "\n",
        "plt.imshow(image.squeeze().numpy(),cmap=plt.cm.gray)\n",
        "plt.show()\n"
      ],
      "execution_count": null,
      "outputs": [
        {
          "output_type": "stream",
          "text": [
            "\n"
          ],
          "name": "stdout"
        },
        {
          "output_type": "display_data",
          "data": {
            "image/png": "[encoded data removed]",
            "text/plain": [
              "<Figure size 432x288 with 1 Axes>"
            ]
          },
          "metadata": {
            "tags": [],
            "needs_background": "light"
          }
        }
      ]
    },
    {
      "cell_type": "markdown",
      "metadata": {
        "id": "C-Yg31snFlNa"
      },
      "source": [
        "Let's try plotting several images. This is conveniently achieved in PyTorch using a *data loader*, which loads data in batches."
      ]
    },
    {
      "cell_type": "code",
      "metadata": {
        "id": "rypRoXGKHG2a",
        "colab": {
          "base_uri": "https://localhost:8080/",
          "height": 84
        },
        "outputId": "278e905d-ca6e-4729-c28d-c6a24e714bb5"
      },
      "source": [
        "trainDataLoader = torch.utils.data.DataLoader(trainingdata, batch_size=64, shuffle=True)\n",
        "testDataLoader = torch.utils.data.DataLoader(testdata, batch_size=64, shuffle=False)\n",
        "images, labels = iter(trainDataLoader).next()\n",
        "print(images.size(), labels)\n",
        "print(labels.shape)"
      ],
      "execution_count": null,
      "outputs": [
        {
          "output_type": "stream",
          "text": [
            "torch.Size([64, 1, 28, 28]) tensor([5, 1, 8, 1, 2, 9, 4, 9, 1, 9, 1, 0, 9, 3, 7, 3, 3, 9, 3, 8, 5, 1, 0, 5,\n",
            "        0, 1, 7, 5, 4, 4, 6, 6, 4, 7, 5, 4, 0, 9, 2, 6, 9, 1, 4, 5, 5, 7, 0, 3,\n",
            "        5, 0, 0, 1, 1, 5, 2, 0, 9, 7, 6, 1, 3, 9, 2, 9])\n",
            "torch.Size([64])\n"
          ],
          "name": "stdout"
        }
      ]
    },
    {
      "cell_type": "code",
      "metadata": {
        "id": "hq0HcYLCIq1B",
        "colab": {
          "base_uri": "https://localhost:8080/",
          "height": 265
        },
        "outputId": "8ecf4bed-bb67-49b7-c25b-032c24297de6"
      },
      "source": [
        "# Q4.4 Visualize the first 10 images of the first minibatch \n",
        "# returned by testDataLoader.\n",
        "\n",
        "plt.figure(figsize=(10,4))\n",
        "for index in np.arange(0,10):\n",
        "  plt.subplot(2,5,index+1)\n",
        "  plt.imshow(images[index].squeeze().numpy(),cmap=plt.cm.gray)"
      ],
      "execution_count": null,
      "outputs": [
        {
          "output_type": "display_data",
          "data": {
            "image/png": "[encoded data removed]",
            "text/plain": [
              "<Figure size 720x288 with 10 Axes>"
            ]
          },
          "metadata": {
            "tags": [],
            "needs_background": "light"
          }
        }
      ]
    },
    {
      "cell_type": "markdown",
      "metadata": {
        "id": "YWC-g9OTOPAq"
      },
      "source": [
        "Now we are ready to define our linear model. Here is some boilerplate PyTorch code that implements the forward model for a single layer network for logistic regression (similar to the one discussed in class notes). "
      ]
    },
    {
      "cell_type": "code",
      "metadata": {
        "id": "qUI2KGrDJpRx"
      },
      "source": [
        "class LinearReg(torch.nn.Module):\n",
        "  def __init__(self):\n",
        "    super(LinearReg, self).__init__()\n",
        "    self.linear = torch.nn.Linear(28*28,10)\n",
        "\n",
        "  def forward(self, x):\n",
        "    x = x.view(-1,28*28)\n",
        "    transformed_x = self.linear(x)\n",
        "    return transformed_x\n",
        "\n",
        "net = LinearReg().cuda()\n",
        "Loss = torch.nn.CrossEntropyLoss()\n",
        "optimizer = torch.optim.SGD(net.parameters(), lr=0.01)\n",
        "\n"
      ],
      "execution_count": null,
      "outputs": []
    },
    {
      "cell_type": "code",
      "metadata": {
        "id": "rPQ7YOz2zrkG",
        "colab": {
          "base_uri": "https://localhost:8080/",
          "height": 353
        },
        "outputId": "1f3e283b-eb33-4e30-8063-e4bc0b7325f7"
      },
      "source": [
        "train_loss_history = []\n",
        "test_loss_history = []\n",
        "\n",
        "# Q4.5 Write down a for-loop that trains this network for 20 minibatch iterations, \n",
        "# and print the train/test losses.\n",
        "# Save them in the variables above. If done correctly, you should be able to \n",
        "# execute the next code block.\n",
        "\n",
        "for iters in range(20):\n",
        "  train_loss = 0.0\n",
        "  test_loss = 0.0\n",
        "  for i, data in enumerate(trainDataLoader):\n",
        "    images, labels = data\n",
        "    images = images.cuda()\n",
        "    labels = labels.cuda()\n",
        "    \n",
        "    optimizer.zero_grad()\n",
        "    predicted_output = net(images)\n",
        "    # print(\"p\",predicted_output.shape)\n",
        "    # print(\"l\",labels.shape)\n",
        "    \n",
        "    fit = Loss(predicted_output,labels)\n",
        "    fit.backward()\n",
        "    optimizer.step()\n",
        "    train_loss += fit.item()\n",
        "  for i, data in enumerate(testDataLoader):\n",
        "    with torch.no_grad():\n",
        "      images, labels = data\n",
        "      images = images.cuda()\n",
        "      labels = labels.cuda()\n",
        "      predicted_output = net(images)\n",
        "      fit = Loss(predicted_output,labels)\n",
        "      test_loss += fit.item()\n",
        "  train_loss = train_loss/len(trainDataLoader)\n",
        "  test_loss = test_loss/len(testDataLoader)\n",
        "  train_loss_history.append(train_loss)\n",
        "  test_loss_history.append(test_loss)\n",
        "  print('Iters %s, Train loss %s, Test loss %s'%(iters, train_loss, test_loss))\n"
      ],
      "execution_count": null,
      "outputs": [
        {
          "output_type": "stream",
          "text": [
            "Iters 0, Train loss 0.9639381256693208, Test loss 0.7399378606847896\n",
            "Iters 1, Train loss 0.6685637201327504, Test loss 0.6480052791962958\n",
            "Iters 2, Train loss 0.6042290101808779, Test loss 0.605348605259209\n",
            "Iters 3, Train loss 0.5692943858185302, Test loss 0.5815254913014212\n",
            "Iters 4, Train loss 0.5461783164155001, Test loss 0.5620633929398409\n",
            "Iters 5, Train loss 0.5295387048965324, Test loss 0.5497166810521654\n",
            "Iters 6, Train loss 0.5168527866413852, Test loss 0.5404487956481375\n",
            "Iters 7, Train loss 0.5067626559880497, Test loss 0.5302914177915853\n",
            "Iters 8, Train loss 0.4980484282792504, Test loss 0.5219245932664082\n",
            "Iters 9, Train loss 0.4908070791758962, Test loss 0.5162081223004943\n",
            "Iters 10, Train loss 0.4843805459643732, Test loss 0.5101567125244505\n",
            "Iters 11, Train loss 0.4792964312790045, Test loss 0.5051668984874799\n",
            "Iters 12, Train loss 0.4744041182243748, Test loss 0.5038991291431865\n",
            "Iters 13, Train loss 0.47040176599709466, Test loss 0.4998610224693444\n",
            "Iters 14, Train loss 0.46662474771552503, Test loss 0.494276293523752\n",
            "Iters 15, Train loss 0.46307611934094034, Test loss 0.4933557345229349\n",
            "Iters 16, Train loss 0.46007167312826935, Test loss 0.4905039149864464\n",
            "Iters 17, Train loss 0.457042401025036, Test loss 0.4876284948579825\n",
            "Iters 18, Train loss 0.4543767983058114, Test loss 0.4868527337624009\n",
            "Iters 19, Train loss 0.4518129415412956, Test loss 0.4844620634036459\n"
          ],
          "name": "stdout"
        }
      ]
    },
    {
      "cell_type": "markdown",
      "metadata": {
        "id": "YfCQuKX7LAqV"
      },
      "source": [
        "\n",
        "Cool! Now we have set everything up. Let's try to train the network."
      ]
    },
    {
      "cell_type": "code",
      "metadata": {
        "id": "7pY0PZU2NWWf",
        "colab": {
          "base_uri": "https://localhost:8080/",
          "height": 296
        },
        "outputId": "89688f8d-f885-4b92-e39f-c3d135f5f795"
      },
      "source": [
        "plt.plot(range(20),train_loss_history,'-',linewidth=3,label='Train error')\n",
        "plt.plot(range(20),test_loss_history,'-',linewidth=3,label='Test error')\n",
        "plt.xlabel('epoch')\n",
        "plt.ylabel('loss')\n",
        "plt.grid(True)\n",
        "plt.legend()"
      ],
      "execution_count": null,
      "outputs": [
        {
          "output_type": "execute_result",
          "data": {
            "text/plain": [
              "<matplotlib.legend.Legend at 0x7f8733700940>"
            ]
          },
          "metadata": {
            "tags": []
          },
          "execution_count": 12
        },
        {
          "output_type": "display_data",
          "data": {
            "image/png": "[encoded data removed]",
            "text/plain": [
              "<Figure size 432x288 with 1 Axes>"
            ]
          },
          "metadata": {
            "tags": [],
            "needs_background": "light"
          }
        }
      ]
    },
    {
      "cell_type": "markdown",
      "metadata": {
        "id": "7e1AOrb7PCQ2"
      },
      "source": [
        "Neat! Now let's evaluate our model accuracy on the entire dataset. The predicted class label for a given input image can computed by looking at the output of the neural network model and computing the index corresponding to the maximum activation. Something like\n",
        "\n",
        "*predicted_output = net(images)*\n",
        "*_, predicted_labels = torch.max(predicted_output,1)*"
      ]
    },
    {
      "cell_type": "code",
      "metadata": {
        "id": "BpbhEoBGPDs6",
        "colab": {
          "base_uri": "https://localhost:8080/",
          "height": 118
        },
        "outputId": "d7dcc6c0-3bcd-4b1d-fef1-f6000362b8c5"
      },
      "source": [
        "predicted_output = net(images)\n",
        "print(torch.max(predicted_output, 1))\n",
        "fit = Loss(predicted_output, labels)\n",
        "print(labels)"
      ],
      "execution_count": null,
      "outputs": [
        {
          "output_type": "stream",
          "text": [
            "torch.return_types.max(\n",
            "values=tensor([ 6.1588,  2.9972,  8.8261,  7.8346,  6.7599,  6.3033,  9.9705,  4.2320,\n",
            "         7.1605, 11.8063, 10.4222, 10.5626,  6.5620,  4.7938,  9.2627,  4.5134],\n",
            "       device='cuda:0', grad_fn=<MaxBackward0>),\n",
            "indices=tensor([3, 1, 7, 5, 8, 2, 5, 6, 8, 9, 1, 9, 1, 8, 1, 5], device='cuda:0'))\n",
            "tensor([3, 2, 7, 5, 8, 4, 5, 6, 8, 9, 1, 9, 1, 8, 1, 5], device='cuda:0')\n"
          ],
          "name": "stdout"
        }
      ]
    },
    {
      "cell_type": "code",
      "metadata": {
        "id": "8lpCJphqiyKU",
        "colab": {
          "base_uri": "https://localhost:8080/",
          "height": 34
        },
        "outputId": "00695b12-2038-4f12-b2dd-851eebed0634"
      },
      "source": [
        "def evaluate(dataloader):\n",
        "  # Q4.6 Implement a function here that evaluates training and testing accuracy.\n",
        "  # Here, accuracy is measured by probability of successful classification.\n",
        "  total, correct = 0, 0\n",
        "  net.eval() # don't update weights\n",
        "  for data in dataloader:\n",
        "    images, labels = data\n",
        "    images = images.cuda()\n",
        "    labels = labels.cuda()\n",
        "    predicted_output = net(images)\n",
        "    _, predicted_labels = torch.max(predicted_output,1)\n",
        "    total += labels.size(0)\n",
        "    correct += (predicted_labels == labels).sum().item()\n",
        "  return 100 * correct/total\n",
        "\n",
        "print('Train acc = %0.2f, test acc = %0.2f' % (evaluate(trainDataLoader), evaluate(testDataLoader)))"
      ],
      "execution_count": null,
      "outputs": [
        {
          "output_type": "stream",
          "text": [
            "Train acc = 84.77, test acc = 83.05\n"
          ],
          "name": "stdout"
        }
      ]
    }
  ]
}