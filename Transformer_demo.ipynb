{
  "nbformat": 4,
  "nbformat_minor": 0,
  "metadata": {
    "kernelspec": {
      "display_name": "Python 3 [conda env:pDL]",
      "language": "python",
      "name": "python3"
    },
    "language_info": {
      "codemirror_mode": {
        "name": "ipython",
        "version": 3
      },
      "file_extension": ".py",
      "mimetype": "text/x-python",
      "name": "python",
      "nbconvert_exporter": "python",
      "pygments_lexer": "ipython3",
      "version": "3.8.2"
    },
    "colab": {
      "name": "Transformer_demo.ipynb",
      "provenance": [],
      "include_colab_link": true
    }
  },
  "cells": [
    {
      "cell_type": "markdown",
      "metadata": {
        "id": "view-in-github",
        "colab_type": "text"
      },
      "source": [
        "<a href=\"https://colab.research.google.com/github/Ritukuklani/Deep-Learning/blob/main/Transformer_demo.ipynb\" target=\"_parent\"><img src=\"https://colab.research.google.com/assets/colab-badge.svg\" alt=\"Open In Colab\"/></a>"
      ]
    },
    {
      "cell_type": "markdown",
      "metadata": {
        "id": "YD8C88QDf3SJ"
      },
      "source": [
        "# Self-Attention and Transformers\n",
        "\n",
        "## Some Visual Explanations\n",
        "\n",
        "Transformer: http://jalammar.github.io/illustrated-transformer/\n",
        "\n",
        "Attention: https://jalammar.github.io/visualizing-neural-machine-translation-mechanics-of-seq2seq-models-with-attention/"
      ]
    },
    {
      "cell_type": "code",
      "metadata": {
        "id": "HNepIyFSf3SM"
      },
      "source": [
        "import torch \n",
        "from torch import nn\n",
        "import torch.nn.functional as f\n",
        "import numpy as np"
      ],
      "execution_count": null,
      "outputs": []
    },
    {
      "cell_type": "markdown",
      "metadata": {
        "id": "9VR10jlk4ZBn"
      },
      "source": [
        "# Self-Attention\n",
        "\n",
        "We have a set of t inputs $\\{x_{i}\\}^{t}_{i=1} \\in \\mathbb{R}^{n}$\n",
        "\n",
        "The x's can be considered a matrix with n rows and t cols\n",
        "\n",
        "$X = \\begin{bmatrix} x_{1}&x_{2}&\\cdots&x_{t} \\end{bmatrix} \\in \\mathbb{R}^{n\\times t}$\n",
        "\n",
        "Hidden representation is a linear combination of the column vectors $x_{i}$ : $h = \\alpha_{1}x_{1} + \\alpha_{2}x_{2} + \\cdots + \\alpha_{t}x_{t} = Xa \\in \\mathbb{R}^{n}$\n",
        "\n",
        "\"Hard\" attention: $\\lvert\\lvert{a}\\rvert\\rvert_{0} = 1$\n",
        "\n",
        "i.e., $a$ is a one-hot vector $\\rightarrow$ multiplication by $X$ is a selection of columns\n",
        "select one element of the set\n",
        "\n",
        "\"Soft\" attention: $\\lvert\\lvert{a}\\rvert\\rvert_{1} = 1$\n",
        "\n",
        "i.e., constraint is that the summation of elements of $a$, the $\\alpha$'s, sum to $1$"
      ]
    },
    {
      "cell_type": "markdown",
      "metadata": {
        "id": "czNbKZos8mWR"
      },
      "source": [
        "Where do the $a$'s come from?\n",
        "$a = [soft]\\arg\\max_{\\beta}(X^{T}x)\\in\\mathbb{R}^{t}$\n",
        "\n",
        "$a$ is the value of the scalar product of input vector $x$ with every other vector in the set (denoted $X$). Every element in the final product is the scalar product of all elements against a given $x$.\n",
        "\n",
        "n.b.: $\\beta$ is the parameter of the soft argmax (usu. referred to as \"softmax\") (in energy terms, the inverse of the temperature, $\\exp$ of argument divided by sum of $\\exp$s). It's there whenever you have soft argmax; $\\beta$ is usually set to one so you don't see it but it's inside the $\\exp$\n",
        "\n",
        "use argmax -> one-hot encoding\n",
        "\n",
        "soft argmax-> exponential divided by summation of all exponentials\n",
        "\n",
        "A set of $x$'s implies a set of $a's$; Stack the vectors $a$ in matrix $A \\in \\mathbb{R}^{t\\times t}$\n",
        "\n",
        "$a$ has size $t$ for $t$ rows in $x^{T}$\n",
        "\n",
        "a set of $a$'s implies a set of $h$'s: $H \\in \\mathbb{R}^{n\\times t}$\n",
        "\n",
        "Finally: $H = XA \\in\\mathbb{R}$\n",
        "$H$ is a linear combination of the elements of $X$ using the factors in the columns of $A$\n",
        "\n",
        "Overall: mix the components of the set of $x$'s by using these coefficients which are computed using the soft argmax, where each component has a score of cosine similarity (dot product) of a given $x$ against the set of $x$'s"
      ]
    },
    {
      "cell_type": "markdown",
      "metadata": {
        "id": "noDnIBfdALtD"
      },
      "source": [
        "# Key-value store\n",
        "\n",
        "Conceptually, we are checking how aligned is the query against all the values in the dataset (compute how matching the dataset values are with respect to your query)\n",
        "\n",
        "We can retrieve the single maximum matching element with argmax OR use soft argmax to find a probability distribution - can retrieve things in order/have a sequence of decreasingly less correlated/similar items\n",
        "\n",
        "Queries, keys, and values are rotations of input $x$: $q = W_q x; k = W_k x; v = W_v x$; these rotations $W_q, W_k, W_v$ are training parameters\n",
        "\n",
        "Attention is completely based on orientation; the only nonlinearity is the soft argmax for probability distribution\n",
        "\n",
        "$q, k$ must have the same dimension; $v$ is the returned value/content associated with a given key\n",
        "\n",
        "Given that we have a set of x's we'll have a set of queries, keys, values, we can make a matrix stacking them all up; matrix has $t$ cols of row vectors of size $d$\n",
        "\n",
        "Next: check  query against all keys - transpose $K$ against every $q$ query\n",
        "\n",
        "This returns $t$ scores which constitute a probability distribution over the space of possible matching sequences"
      ]
    },
    {
      "cell_type": "markdown",
      "metadata": {
        "id": "zjTC9F_Of3Sv"
      },
      "source": [
        "# Transformer Model\n",
        "\n",
        "## Multi-head attention module"
      ]
    },
    {
      "cell_type": "code",
      "metadata": {
        "id": "nlfqnfRwf3SZ"
      },
      "source": [
        "device = torch.device(\"cuda\" if torch.cuda.is_available() else \"cpu\")\n",
        "nn_Softargmax = nn.Softmax  # more correct name"
      ],
      "execution_count": null,
      "outputs": []
    },
    {
      "cell_type": "code",
      "metadata": {
        "id": "3eTcGo5Mf3Sy"
      },
      "source": [
        "# multiple heads: allows for multiple properties per query\n",
        "\n",
        "class MultiHeadAttention(nn.Module):\n",
        "    def __init__(self, d_model, num_heads, p, d_input=None):\n",
        "        super().__init__()\n",
        "        self.num_heads = num_heads\n",
        "        self.d_model = d_model\n",
        "        if d_input is None:\n",
        "            d_xq = d_xk = d_xv = d_model\n",
        "        else:\n",
        "            d_xq, d_xk, d_xv = d_input\n",
        "            \n",
        "        # Make sure that the embedding dimension of model is a multiple of number of heads\n",
        "        assert d_model % self.num_heads == 0\n",
        "\n",
        "        self.d_k = d_model // self.num_heads\n",
        "\n",
        "        # matrices allowing to rotate current input\n",
        "        # (These are still of dimension d_model. They will be split into number of heads)\n",
        "        self.W_q = nn.Linear(d_xq, d_model, bias=False)\n",
        "        self.W_k = nn.Linear(d_xk, d_model, bias=False)\n",
        "        self.W_v = nn.Linear(d_xv, d_model, bias=False)\n",
        "        \n",
        "        # Outputs of all sub-layers need to be of dimension d_model\n",
        "        self.W_h = nn.Linear(d_model, d_model)\n",
        "        \n",
        "    def scaled_dot_product_attention(self, Q, K, V):\n",
        "        batch_size = Q.size(0)\n",
        "        k_length = K.size(-2) \n",
        "        \n",
        "        # Scaling by d_k so that the soft(arg)max doesn't saturate\n",
        "        Q = Q / np.sqrt(self.d_k) # (bs, n_heads, q_length, dim_per_head)\n",
        "\n",
        "        # multiplication between one query and all keys\n",
        "        scores = torch.matmul(Q, K.transpose(2,3)) # (bs, n_heads, q_length, k_length)\n",
        "\n",
        "        # compute the mixing coefficients\n",
        "        A = nn_Softargmax(dim=-1)(scores) # (bs, n_heads, q_length, k_length)\n",
        "        \n",
        "        # get the weighted average of the values - multipy mixing coeff with V matrix\n",
        "        H = torch.matmul(A, V) # (bs, n_heads, q_length, dim_per_head)\n",
        "\n",
        "        return H, A\n",
        "\n",
        "        \n",
        "    def split_heads(self, x, batch_size):\n",
        "        \"\"\"\n",
        "        Split the last dimension into (heads X depth)\n",
        "        Return after transpose to put in shape (batch_size X num_heads X seq_length X d_k)\n",
        "        \"\"\"\n",
        "        return x.view(batch_size, -1, self.num_heads, self.d_k).transpose(1, 2)\n",
        "\n",
        "    def group_heads(self, x, batch_size):\n",
        "        \"\"\"\n",
        "        Combine the heads again to get (batch_size X seq_length X (num_heads times d_k))\n",
        "        \"\"\"\n",
        "        return x.transpose(1, 2).contiguous().view(batch_size, -1, self.num_heads * self.d_k)\n",
        "    \n",
        "\n",
        "    def forward(self, X_q, X_k, X_v):\n",
        "        batch_size, seq_length, dim = X_q.size()\n",
        "\n",
        "        # apply W transformation (learned rotation of x input), then split into num_heads \n",
        "        Q = self.split_heads(self.W_q(X_q), batch_size)  # (bs, n_heads, q_length, dim_per_head)\n",
        "        K = self.split_heads(self.W_k(X_k), batch_size)  # (bs, n_heads, k_length, dim_per_head)\n",
        "        V = self.split_heads(self.W_v(X_v), batch_size)  # (bs, n_heads, v_length, dim_per_head)\n",
        "        \n",
        "        # compute scaled dot product between one query against all keys\n",
        "        # i.e. calculate the attention weights for each of the heads\n",
        "        H_cat, A = self.scaled_dot_product_attention(Q, K, V)\n",
        "        \n",
        "        # Put all the heads back together by concat\n",
        "        H_cat = self.group_heads(H_cat, batch_size)  # (bs, q_length, dim)\n",
        "        \n",
        "        # Final linear layer  \n",
        "        H = self.W_h(H_cat)  # (bs, q_length, dim)\n",
        "        \n",
        "        return H, A"
      ],
      "execution_count": null,
      "outputs": []
    },
    {
      "cell_type": "markdown",
      "metadata": {
        "id": "Y_VEY5NCf3S9"
      },
      "source": [
        "### Check how the self-attention mechanism works:"
      ]
    },
    {
      "cell_type": "code",
      "metadata": {
        "id": "itrqEQDaf3S-"
      },
      "source": [
        "temp_mha = MultiHeadAttention(d_model=512, num_heads=8, p=0)\n",
        "def print_out(Q, K, V):\n",
        "    temp_out, temp_attn = temp_mha.scaled_dot_product_attention(Q, K, V)\n",
        "    print('Attention weights are:', temp_attn.squeeze())\n",
        "    print('Output is:', temp_out.squeeze())"
      ],
      "execution_count": null,
      "outputs": []
    },
    {
      "cell_type": "markdown",
      "metadata": {
        "id": "W5RcME2Nf3TO"
      },
      "source": [
        "To check our self attention works - if the query matches with one of the key values, it should have all the attention focused there, with the value returned as the value at that index"
      ]
    },
    {
      "cell_type": "code",
      "metadata": {
        "scrolled": true,
        "id": "h4Fn27x6f3TR",
        "colab": {
          "base_uri": "https://localhost:8080/",
          "height": 57
        },
        "outputId": "b67ee96e-03a0-44f4-b1ee-04dfebebded8"
      },
      "source": [
        "test_K = torch.tensor(\n",
        "    [[10, 0, 0],\n",
        "     [ 0,10, 0],\n",
        "     [ 0, 0,10],\n",
        "     [ 0, 0,10]]\n",
        ").float()[None, None]\n",
        "\n",
        "test_V = torch.tensor(\n",
        "    [[   1,0,0],\n",
        "     [  10,0,0],\n",
        "     [ 100,5,0],\n",
        "     [1000,6,0]]\n",
        ").float()[None, None]\n",
        "\n",
        "test_Q = torch.tensor(\n",
        "    [[0, 10, 0]]\n",
        ").float()[None, None]\n",
        "\n",
        "print_out(test_Q, test_K, test_V)"
      ],
      "execution_count": null,
      "outputs": [
        {
          "output_type": "stream",
          "text": [
            "Attention weights are: tensor([3.7266e-06, 9.9999e-01, 3.7266e-06, 3.7266e-06])\n",
            "Output is: tensor([1.0004e+01, 4.0993e-05, 0.0000e+00])\n"
          ],
          "name": "stdout"
        }
      ]
    },
    {
      "cell_type": "markdown",
      "metadata": {
        "id": "-2uBM5vgf3Tf"
      },
      "source": [
        "Great! We can see that it focuses on the second key and returns the second value. \n",
        "\n",
        "If we give a query that matches two keys exactly, it should return the averaged value of the two values for those two keys. "
      ]
    },
    {
      "cell_type": "code",
      "metadata": {
        "id": "0UZnyt0zf3Tg",
        "colab": {
          "base_uri": "https://localhost:8080/",
          "height": 57
        },
        "outputId": "fec3d09c-119b-422a-f835-12a3c037d038"
      },
      "source": [
        "test_Q = torch.tensor([[0, 0, 10]]).float()  \n",
        "print_out(test_Q, test_K, test_V)"
      ],
      "execution_count": null,
      "outputs": [
        {
          "output_type": "stream",
          "text": [
            "Attention weights are: tensor([1.8633e-06, 1.8633e-06, 5.0000e-01, 5.0000e-01])\n",
            "Output is: tensor([549.9979,   5.5000,   0.0000])\n"
          ],
          "name": "stdout"
        }
      ]
    },
    {
      "cell_type": "markdown",
      "metadata": {
        "id": "rTttBFZqf3Tn"
      },
      "source": [
        "We see that it focuses equally on the third and fourth key and returns the average of their values.\n",
        "\n",
        "Now giving all the queries at the same time:"
      ]
    },
    {
      "cell_type": "code",
      "metadata": {
        "id": "C4NoJPylf3Tp",
        "colab": {
          "base_uri": "https://localhost:8080/",
          "height": 136
        },
        "outputId": "72129ede-a2cf-4fd1-e49a-792b66883ab0"
      },
      "source": [
        "test_Q = torch.tensor(\n",
        "    [[0, 0, 10], [0, 10, 0], [10, 10, 0]]\n",
        ").float()[None,None]\n",
        "print_out(test_Q, test_K, test_V)"
      ],
      "execution_count": null,
      "outputs": [
        {
          "output_type": "stream",
          "text": [
            "Attention weights are: tensor([[1.8633e-06, 1.8633e-06, 5.0000e-01, 5.0000e-01],\n",
            "        [3.7266e-06, 9.9999e-01, 3.7266e-06, 3.7266e-06],\n",
            "        [5.0000e-01, 5.0000e-01, 1.8633e-06, 1.8633e-06]])\n",
            "Output is: tensor([[5.5000e+02, 5.5000e+00, 0.0000e+00],\n",
            "        [1.0004e+01, 4.0993e-05, 0.0000e+00],\n",
            "        [5.5020e+00, 2.0497e-05, 0.0000e+00]])\n"
          ],
          "name": "stdout"
        }
      ]
    },
    {
      "cell_type": "markdown",
      "metadata": {
        "id": "08Do9vFlf3T3"
      },
      "source": [
        "## 1D convolution with `kernel_size = 1`"
      ]
    },
    {
      "cell_type": "markdown",
      "metadata": {
        "id": "ZXU9fYC-f3T6"
      },
      "source": [
        "This is equivalent to an MLP with one hidden layer and ReLU activation applied to each and every element in the set."
      ]
    },
    {
      "cell_type": "code",
      "metadata": {
        "id": "t0YM-4Nsf3T-"
      },
      "source": [
        "# element-wise feedforward = 1d convolution with kernel size 1\n",
        "# linear layer maps a representation to some other representation (is a transformation)\n",
        "# convolution maps one set to another set - which is what we are actually doing here\n",
        "# apply same linear transform to every element in a sequence\n",
        "\n",
        "# conv hidden layer is applied to every component in the set - every element treated separately\n",
        "# if you apply same linear layer to every element in a sequence -> that's a convolution\n",
        "# in practice, implementations generally use a linear layer\n",
        "\n",
        "class CNN(nn.Module):\n",
        "    def __init__(self, d_model, hidden_dim, p):\n",
        "        super().__init__()\n",
        "        self.k1convL1 = nn.Linear(d_model,    hidden_dim)\n",
        "        self.k1convL2 = nn.Linear(hidden_dim, d_model)\n",
        "        self.activation = nn.ReLU()\n",
        "\n",
        "    def forward(self, x):\n",
        "        x = self.k1convL1(x)\n",
        "        x = self.activation(x)\n",
        "        x = self.k1convL2(x)\n",
        "        return x"
      ],
      "execution_count": null,
      "outputs": []
    },
    {
      "cell_type": "markdown",
      "metadata": {
        "id": "WkGWb5jOf3UG"
      },
      "source": [
        "## Transformer encoder"
      ]
    },
    {
      "cell_type": "code",
      "metadata": {
        "id": "N3SbqezKf3UJ"
      },
      "source": [
        "# Components of encoder block:\n",
        "# 1: self attention\n",
        "# 2: convolution - MLP applied to very element in the set\n",
        "\n",
        "class EncoderLayer(nn.Module):\n",
        "    def __init__(self, d_model, num_heads, conv_hidden_dim, p=0.1):\n",
        "        super().__init__()\n",
        "\n",
        "        self.mha = MultiHeadAttention(d_model, num_heads, p)\n",
        "        self.cnn = CNN(d_model, conv_hidden_dim, p)\n",
        "\n",
        "        self.layernorm1 = nn.LayerNorm(normalized_shape=d_model, eps=1e-6)\n",
        "        self.layernorm2 = nn.LayerNorm(normalized_shape=d_model, eps=1e-6)\n",
        "    \n",
        "    def forward(self, x):\n",
        "        \n",
        "        # Multi-head attention\n",
        "        attn_output, _ = self.mha(x, x, x)  # (batch_size, input_seq_len, d_model)\n",
        "        \n",
        "        # Layer norm after adding the residual connection \n",
        "        out1 = self.layernorm1(x + attn_output)  # (batch_size, input_seq_len, d_model)\n",
        "        \n",
        "        # Feed forward \n",
        "        cnn_output = self.cnn(out1)  # (batch_size, input_seq_len, d_model)\n",
        "        \n",
        "        #Second layer norm after adding residual connection \n",
        "        out2 = self.layernorm2(out1 + cnn_output)  # (batch_size, input_seq_len, d_model)\n",
        "\n",
        "        return out2"
      ],
      "execution_count": null,
      "outputs": []
    },
    {
      "cell_type": "markdown",
      "metadata": {
        "id": "b5DOXsdUf3UP"
      },
      "source": [
        "## Positional Embeddings\n",
        "\n",
        "see https://kazemnejad.com/blog/transformer_architecture_positional_encoding/\n",
        "\n",
        "Until here, basically like a bag of words, but also want to send information about what position the item takes. So far, the encoder, transformer, attention are all permutation equivariant. For sentences, we need to account for the order of words. We can add information about the position to the initial encoding of the words. In this way, the encoding is not integrated into the model itself, but rather enhances the input to the model with information about its own position. Since the Transformer architecture is equipped with residual connections, the information from the input of the model (containing positional embeddings) can propagate to further layers (further layers remain aware of position).\n",
        "\n",
        "Some criteria for position-sensitive encoding:\n",
        "- Should output a unique encoding for each time-step/word position in a sentence\n",
        "- Distance between any two time-steps should be consistent across sentences with different lengths\n",
        "- Model should generalize to longer sentences without any efforts; values should be bounded\n",
        "- Must be deterministic\n",
        "\n",
        "Let $t$ be the desired position in an input sentence, $p_{t} \\in \\mathbb{R}^{d}$ be its corresponding encoding, and $d$ be the encoding dimension, same as the word embedding dimension - the positional embedding is a transformation of the word embedding:\n",
        "\n",
        "$$\\psi^{\\prime}(w_t) = \\psi(w_t)+p_t$$\n",
        "\n",
        "Sinusoidal positional embeddings:\n",
        "\n",
        "\\begin{aligned}\n",
        "E(p, 2i)    &= \\sin(p / 10000^{2i / d}) \\\\\n",
        "E(p, 2i+1) &= \\cos(p / 10000^{2i / d})\n",
        "\\end{aligned}\n",
        "\n",
        "- the positional embedding $p_t$ as a vector containing pairs of sines and cosines\n",
        "\n",
        "- represents $p_{t+\\phi}$ as a linear function of $p_t$ for any fixed offset $\\phi$ - the sines and cosines implement a rotation transformation\n",
        "\n",
        "- position as the frequency of flip in value when incrementing, which varies depending on the bit position -> sinusoidal functions as the continuous version of alternating bits\n"
      ]
    },
    {
      "cell_type": "code",
      "metadata": {
        "id": "lYVdPF9qf3UR"
      },
      "source": [
        "def create_sinusoidal_embeddings(nb_p, dim, E):\n",
        "    theta = np.array([\n",
        "        [p / np.power(10000, 2 * (j // 2) / dim) for j in range(dim)]\n",
        "        for p in range(nb_p)\n",
        "    ])\n",
        "    E[:, 0::2] = torch.FloatTensor(np.sin(theta[:, 0::2]))\n",
        "    E[:, 1::2] = torch.FloatTensor(np.cos(theta[:, 1::2]))\n",
        "    E.detach_()\n",
        "    E.requires_grad = False\n",
        "    E = E.to(device)\n",
        "\n",
        "class Embeddings(nn.Module):\n",
        "    def __init__(self, d_model, vocab_size, max_position_embeddings, p):\n",
        "        super().__init__()\n",
        "        self.word_embeddings = nn.Embedding(vocab_size, d_model, padding_idx=1) # a simple lookup table that stores embeddings of a fixed dictionary and size\n",
        "        self.position_embeddings = nn.Embedding(max_position_embeddings, d_model)\n",
        "        create_sinusoidal_embeddings(\n",
        "            nb_p=max_position_embeddings,\n",
        "            dim=d_model,\n",
        "            E=self.position_embeddings.weight\n",
        "        )\n",
        "\n",
        "        self.LayerNorm = nn.LayerNorm(d_model, eps=1e-12)\n",
        "\n",
        "    def forward(self, input_ids):\n",
        "        seq_length = input_ids.size(1)\n",
        "        position_ids = torch.arange(seq_length, dtype=torch.long, device=input_ids.device) # (max_seq_length)\n",
        "        position_ids = position_ids.unsqueeze(0).expand_as(input_ids)                      # (bs, max_seq_length)\n",
        "        \n",
        "        # Get word embeddings for each input id\n",
        "        word_embeddings = self.word_embeddings(input_ids)                   # (bs, max_seq_length, dim)\n",
        "        \n",
        "        # Get position embeddings for each position id \n",
        "        position_embeddings = self.position_embeddings(position_ids)        # (bs, max_seq_length, dim)\n",
        "        \n",
        "        # Add them both \n",
        "        embeddings = word_embeddings + position_embeddings  # (bs, max_seq_length, dim)\n",
        "        \n",
        "        # Layer norm \n",
        "        embeddings = self.LayerNorm(embeddings)             # (bs, max_seq_length, dim)\n",
        "        return embeddings"
      ],
      "execution_count": null,
      "outputs": []
    },
    {
      "cell_type": "markdown",
      "metadata": {
        "id": "YMGcDsFLf3UO"
      },
      "source": [
        "## Overall Encoder \n",
        "#### (Blocks of N Encoder Layers + Positional encoding + Input embedding)"
      ]
    },
    {
      "cell_type": "code",
      "metadata": {
        "id": "HbcmTyayf3Uf"
      },
      "source": [
        "class Encoder(nn.Module):\n",
        "    def __init__(self, num_layers, d_model, num_heads, ff_hidden_dim, input_vocab_size,\n",
        "               maximum_position_encoding, p=0.1):\n",
        "        super().__init__()\n",
        "\n",
        "        self.d_model = d_model\n",
        "        self.num_layers = num_layers\n",
        "        \n",
        "        # apply permutation-sensitive embeddings\n",
        "        self.embedding = Embeddings(d_model, input_vocab_size,maximum_position_encoding, p)\n",
        "\n",
        "        self.enc_layers = nn.ModuleList()\n",
        "        for _ in range(num_layers):\n",
        "            self.enc_layers.append(EncoderLayer(d_model, num_heads, ff_hidden_dim, p))\n",
        "        \n",
        "    def forward(self, x):\n",
        "        x = self.embedding(x) # Transform to (batch_size, input_seq_length, d_model)\n",
        "        # stack multiple to make network \"more powerful\"\n",
        "        # append several encoders together\n",
        "        for i in range(self.num_layers):\n",
        "            x = self.enc_layers[i](x)\n",
        "\n",
        "        return x  # (batch_size, input_seq_len, d_model)"
      ],
      "execution_count": null,
      "outputs": []
    },
    {
      "cell_type": "code",
      "metadata": {
        "id": "s0jVATIsf3Up"
      },
      "source": [
        "import torchtext.data as data\n",
        "import torchtext.datasets as datasets"
      ],
      "execution_count": null,
      "outputs": []
    },
    {
      "cell_type": "code",
      "metadata": {
        "id": "sazrxeNEf3Uw",
        "colab": {
          "base_uri": "https://localhost:8080/",
          "height": 116
        },
        "outputId": "bff78d85-57ab-44f1-afd4-391a6ec34068"
      },
      "source": [
        "max_len = 200\n",
        "text = data.Field(sequential=True, fix_length=max_len, batch_first=True, lower=True, dtype=torch.long)\n",
        "label = data.LabelField(sequential=False, dtype=torch.long)\n",
        "datasets.IMDB.download('./')\n",
        "ds_train, ds_test = datasets.IMDB.splits(text, label, path='./imdb/aclImdb/')\n",
        "print('train : ', len(ds_train))\n",
        "print('test : ', len(ds_test))\n",
        "print('train.fields :', ds_train.fields)"
      ],
      "execution_count": null,
      "outputs": [
        {
          "output_type": "stream",
          "text": [
            "downloading aclImdb_v1.tar.gz\n"
          ],
          "name": "stdout"
        },
        {
          "output_type": "stream",
          "text": [
            "aclImdb_v1.tar.gz: 100%|██████████| 84.1M/84.1M [00:05<00:00, 16.0MB/s]\n"
          ],
          "name": "stderr"
        },
        {
          "output_type": "stream",
          "text": [
            "train :  25000\n",
            "test :  25000\n",
            "train.fields : {'text': <torchtext.data.field.Field object at 0x7f57af8d3240>, 'label': <torchtext.data.field.LabelField object at 0x7f57af8d3278>}\n"
          ],
          "name": "stdout"
        }
      ]
    },
    {
      "cell_type": "code",
      "metadata": {
        "id": "s3FGrbG0f3U2",
        "colab": {
          "base_uri": "https://localhost:8080/",
          "height": 77
        },
        "outputId": "ba9a0045-e3ae-4e5d-f165-1a023f7b61dc"
      },
      "source": [
        "ds_train, ds_valid = ds_train.split(0.9)\n",
        "print('train : ', len(ds_train))\n",
        "print('valid : ', len(ds_valid))\n",
        "print('test : ', len(ds_test))"
      ],
      "execution_count": null,
      "outputs": [
        {
          "output_type": "stream",
          "text": [
            "train :  22500\n",
            "valid :  2500\n",
            "test :  25000\n"
          ],
          "name": "stdout"
        }
      ]
    },
    {
      "cell_type": "code",
      "metadata": {
        "id": "l4jci2ipf3U5"
      },
      "source": [
        "num_words = 50_000\n",
        "text.build_vocab(ds_train, max_size=num_words)\n",
        "label.build_vocab(ds_train)\n",
        "vocab = text.vocab"
      ],
      "execution_count": null,
      "outputs": []
    },
    {
      "cell_type": "code",
      "metadata": {
        "id": "q7BFIz_Ef3VH"
      },
      "source": [
        "batch_size = 164\n",
        "train_loader, valid_loader, test_loader = data.BucketIterator.splits(\n",
        "    (ds_train, ds_valid, ds_test), batch_size=batch_size, sort_key=lambda x: len(x.text), repeat=False)"
      ],
      "execution_count": null,
      "outputs": []
    },
    {
      "cell_type": "code",
      "metadata": {
        "id": "u8wV88T3f3VP"
      },
      "source": [
        "class TransformerClassifier(nn.Module):\n",
        "    def __init__(self, num_layers, d_model, num_heads, conv_hidden_dim, input_vocab_size, num_answers):\n",
        "        super().__init__()\n",
        "        \n",
        "        self.encoder = Encoder(num_layers, d_model, num_heads, conv_hidden_dim, input_vocab_size,\n",
        "                         maximum_position_encoding=10000)\n",
        "        self.dense = nn.Linear(d_model, num_answers)\n",
        "\n",
        "    def forward(self, x):\n",
        "        x = self.encoder(x)\n",
        "        \n",
        "        x, _ = torch.max(x, dim=1)\n",
        "        x = self.dense(x)\n",
        "        return x"
      ],
      "execution_count": null,
      "outputs": []
    },
    {
      "cell_type": "code",
      "metadata": {
        "id": "1DZ7XuTGf3VW",
        "colab": {
          "base_uri": "https://localhost:8080/",
          "height": 553
        },
        "outputId": "eac03a2a-d8d2-4608-a877-890aef5246d2"
      },
      "source": [
        "model = TransformerClassifier(num_layers=1, d_model=32, num_heads=2, \n",
        "                         conv_hidden_dim=128, input_vocab_size=50002, num_answers=2)\n",
        "model.to(device)"
      ],
      "execution_count": null,
      "outputs": [
        {
          "output_type": "execute_result",
          "data": {
            "text/plain": [
              "TransformerClassifier(\n",
              "  (encoder): Encoder(\n",
              "    (embedding): Embeddings(\n",
              "      (word_embeddings): Embedding(50002, 32, padding_idx=1)\n",
              "      (position_embeddings): Embedding(10000, 32)\n",
              "      (LayerNorm): LayerNorm((32,), eps=1e-12, elementwise_affine=True)\n",
              "    )\n",
              "    (enc_layers): ModuleList(\n",
              "      (0): EncoderLayer(\n",
              "        (mha): MultiHeadAttention(\n",
              "          (W_q): Linear(in_features=32, out_features=32, bias=False)\n",
              "          (W_k): Linear(in_features=32, out_features=32, bias=False)\n",
              "          (W_v): Linear(in_features=32, out_features=32, bias=False)\n",
              "          (W_h): Linear(in_features=32, out_features=32, bias=True)\n",
              "        )\n",
              "        (cnn): CNN(\n",
              "          (k1convL1): Linear(in_features=32, out_features=128, bias=True)\n",
              "          (k1convL2): Linear(in_features=128, out_features=32, bias=True)\n",
              "          (activation): ReLU()\n",
              "        )\n",
              "        (layernorm1): LayerNorm((32,), eps=1e-06, elementwise_affine=True)\n",
              "        (layernorm2): LayerNorm((32,), eps=1e-06, elementwise_affine=True)\n",
              "      )\n",
              "    )\n",
              "  )\n",
              "  (dense): Linear(in_features=32, out_features=2, bias=True)\n",
              ")"
            ]
          },
          "metadata": {
            "tags": []
          },
          "execution_count": 32
        }
      ]
    },
    {
      "cell_type": "code",
      "metadata": {
        "id": "9FDXqsS4f3Vb"
      },
      "source": [
        "optimizer = torch.optim.AdamW(model.parameters(), lr=0.001)\n",
        "epochs = 10\n",
        "t_total = len(train_loader) * epochs"
      ],
      "execution_count": null,
      "outputs": []
    },
    {
      "cell_type": "code",
      "metadata": {
        "id": "FlHpWVkzf3Vf"
      },
      "source": [
        "def train(train_loader, valid_loader):\n",
        "    \n",
        "    for epoch in range(epochs):\n",
        "        train_iterator, valid_iterator = iter(train_loader), iter(valid_loader)\n",
        "        nb_batches_train = len(train_loader)\n",
        "        train_acc = 0\n",
        "        model.train()\n",
        "        losses = 0.0\n",
        "\n",
        "        for batch in train_iterator:\n",
        "            x = batch.text.to(device)\n",
        "            y = batch.label.to(device)\n",
        "            \n",
        "            out = model(x)  # ①\n",
        "\n",
        "            loss = f.cross_entropy(out, y)  # ②\n",
        "            \n",
        "            model.zero_grad()  # ③\n",
        "\n",
        "            loss.backward()  # ④\n",
        "            losses += loss.item()\n",
        "\n",
        "            optimizer.step()  # ⑤\n",
        "                        \n",
        "            train_acc += (out.argmax(1) == y).cpu().numpy().mean()\n",
        "        \n",
        "        print(f\"Training loss at epoch {epoch} is {losses / nb_batches_train}\")\n",
        "        print(f\"Training accuracy: {train_acc / nb_batches_train}\")\n",
        "        print('Evaluating on validation:')\n",
        "        evaluate(valid_loader)"
      ],
      "execution_count": null,
      "outputs": []
    },
    {
      "cell_type": "code",
      "metadata": {
        "id": "zBOrlqz3f3Vj"
      },
      "source": [
        "def evaluate(data_loader):\n",
        "    data_iterator = iter(data_loader)\n",
        "    nb_batches = len(data_loader)\n",
        "    model.eval()\n",
        "    acc = 0 \n",
        "    for batch in data_iterator:\n",
        "        x = batch.text.to(device)\n",
        "        y = batch.label.to(device)\n",
        "                \n",
        "        out = model(x)\n",
        "        acc += (out.argmax(1) == y).cpu().numpy().mean()\n",
        "\n",
        "    print(f\"Eval accuracy: {acc / nb_batches}\")"
      ],
      "execution_count": null,
      "outputs": []
    },
    {
      "cell_type": "code",
      "metadata": {
        "scrolled": false,
        "id": "4oNc8LTkf3Vn",
        "colab": {
          "base_uri": "https://localhost:8080/",
          "height": 810
        },
        "outputId": "26fe81c8-243c-4190-ccd5-cd2896553a72"
      },
      "source": [
        "train(train_loader, valid_loader)"
      ],
      "execution_count": null,
      "outputs": [
        {
          "output_type": "stream",
          "text": [
            "Training loss at epoch 0 is 0.6721802185411039\n",
            "Training accuracy: 0.5826539855072467\n",
            "Evaluating on validation:\n",
            "Eval accuracy: 0.6530868902439025\n",
            "Training loss at epoch 1 is 0.582925174979196\n",
            "Training accuracy: 0.7033293566631319\n",
            "Evaluating on validation:\n",
            "Eval accuracy: 0.7066310975609755\n",
            "Training loss at epoch 2 is 0.5058913334556248\n",
            "Training accuracy: 0.7565946447507955\n",
            "Evaluating on validation:\n",
            "Eval accuracy: 0.7458841463414635\n",
            "Training loss at epoch 3 is 0.42073767966982245\n",
            "Training accuracy: 0.8092579091551786\n",
            "Evaluating on validation:\n",
            "Eval accuracy: 0.7744664634146343\n",
            "Training loss at epoch 4 is 0.3500220380399538\n",
            "Training accuracy: 0.8472240632732414\n",
            "Evaluating on validation:\n",
            "Eval accuracy: 0.7816692073170732\n",
            "Training loss at epoch 5 is 0.2903795751972475\n",
            "Training accuracy: 0.8809815747613994\n",
            "Evaluating on validation:\n",
            "Eval accuracy: 0.7931402439024391\n",
            "Training loss at epoch 6 is 0.2460989849506945\n",
            "Training accuracy: 0.9029084924001415\n",
            "Evaluating on validation:\n",
            "Eval accuracy: 0.8019435975609756\n",
            "Training loss at epoch 7 is 0.20571071989294412\n",
            "Training accuracy: 0.9230459084482145\n",
            "Evaluating on validation:\n",
            "Eval accuracy: 0.8096417682926831\n",
            "Training loss at epoch 8 is 0.1667672161390816\n",
            "Training accuracy: 0.9409022622834926\n",
            "Evaluating on validation:\n",
            "Eval accuracy: 0.8115472560975611\n",
            "Training loss at epoch 9 is 0.13899404685134473\n",
            "Training accuracy: 0.9528875044185224\n",
            "Evaluating on validation:\n",
            "Eval accuracy: 0.8130716463414633\n"
          ],
          "name": "stdout"
        }
      ]
    },
    {
      "cell_type": "code",
      "metadata": {
        "id": "CwHM0ScJf3Vz",
        "colab": {
          "base_uri": "https://localhost:8080/",
          "height": 37
        },
        "outputId": "214a9889-e9cf-4f26-8eef-961fc08382c0"
      },
      "source": [
        "evaluate(test_loader)"
      ],
      "execution_count": null,
      "outputs": [
        {
          "output_type": "stream",
          "text": [
            "Eval accuracy: 0.5002811874523975\n"
          ],
          "name": "stdout"
        }
      ]
    }
  ]
}